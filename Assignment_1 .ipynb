{
 "cells": [
  {
   "cell_type": "code",
   "execution_count": null,
   "id": "759fc597",
   "metadata": {},
   "outputs": [],
   "source": [
    "Q1 -In the below elements which of them are values or an expression? \n",
    "eg:- values can be integer or string and expressions will be mathematical operators. \n",
    "\n",
    "Solution:\n",
    "    \n",
    "* -- Expression\n",
    "'hello' -- Value\n",
    "-87.8 -- Value\n",
    "- -- Expression\n",
    "/ -- Expression\n",
    "+ -- Expression\n",
    "6 -- Value"
   ]
  },
  {
   "cell_type": "raw",
   "id": "a39de977",
   "metadata": {},
   "source": [
    "Q2- What is the difference between string and variable?\n",
    "\n",
    "Solution:\n",
    "\n",
    "String: String can be written in quotes eg: \"abhi\" , \"sudh\"\n",
    "Variable: Variable is the thing which stores the data like a container"
   ]
  },
  {
   "cell_type": "code",
   "execution_count": null,
   "id": "4c041f92",
   "metadata": {},
   "outputs": [],
   "source": [
    "Q3- Describe three different data types.\n",
    "\n",
    "Solution:\n",
    "\n",
    "Integer -- Integer can only store the numerical values.\n",
    "Set -- Set helps to remove the duplicates.\n",
    "List -- List helps to store multiple data items in single variable.\n",
    "Float -- Float can store only floating variable."
   ]
  },
  {
   "cell_type": "code",
   "execution_count": null,
   "id": "5090a141",
   "metadata": {},
   "outputs": [],
   "source": [
    "Q4- What is an expression made up of? What do all expressions do?\n",
    "\n",
    "Solution:\n",
    "\n",
    "Expressions are made up of values,containers & mathematical operators.\n",
    "Eg:- z = 4 +9. Expressions are used to evaluate the value and present the outcome.  "
   ]
  },
  {
   "cell_type": "code",
   "execution_count": null,
   "id": "fe9b29bb",
   "metadata": {},
   "outputs": [],
   "source": [
    "Q5- This assignment statements, like spam = 10. What is the difference between an expression and a statement?\n",
    "\n",
    "Solution:\n",
    "\n",
    "Expressions are made up of values,containers & mathematical operators \n",
    "whereas the statement is just a command that a python interpreter executes eg: print"
   ]
  },
  {
   "cell_type": "code",
   "execution_count": null,
   "id": "ad6417f8",
   "metadata": {},
   "outputs": [],
   "source": [
    "Q6- After running the following code, what does the variable bacon contain?\n",
    "bacon = 22\n",
    "bacon + 1\n",
    "\n",
    "Solution:\n",
    "\n",
    "The Variable Bacon contains 23 as solution. Working as below:"
   ]
  },
  {
   "cell_type": "code",
   "execution_count": 2,
   "id": "3c7713c7",
   "metadata": {},
   "outputs": [],
   "source": [
    "bacon = 22"
   ]
  },
  {
   "cell_type": "code",
   "execution_count": 3,
   "id": "955740bb",
   "metadata": {},
   "outputs": [
    {
     "data": {
      "text/plain": [
       "23"
      ]
     },
     "execution_count": 3,
     "metadata": {},
     "output_type": "execute_result"
    }
   ],
   "source": [
    "bacon + 1"
   ]
  },
  {
   "cell_type": "code",
   "execution_count": null,
   "id": "89864d3e",
   "metadata": {},
   "outputs": [],
   "source": [
    "Q7- What should the values of the following two terms be?\n",
    "'spam' + 'spamspam'\n",
    "'spam' * 3\n",
    "\n",
    "Solution:\n",
    "\n",
    "The values will remain the for both the terms.Please find the working as below:"
   ]
  },
  {
   "cell_type": "code",
   "execution_count": 4,
   "id": "1687e6aa",
   "metadata": {},
   "outputs": [
    {
     "data": {
      "text/plain": [
       "'spamspamspam'"
      ]
     },
     "execution_count": 4,
     "metadata": {},
     "output_type": "execute_result"
    }
   ],
   "source": [
    "\"spam\" + \"spamspam\""
   ]
  },
  {
   "cell_type": "code",
   "execution_count": 5,
   "id": "8afce1ed",
   "metadata": {},
   "outputs": [
    {
     "data": {
      "text/plain": [
       "'spamspamspam'"
      ]
     },
     "execution_count": 5,
     "metadata": {},
     "output_type": "execute_result"
    }
   ],
   "source": [
    "\"spam\"*3"
   ]
  },
  {
   "cell_type": "code",
   "execution_count": null,
   "id": "51a3dcfd",
   "metadata": {},
   "outputs": [],
   "source": [
    "Q8- Why is eggs a valid variable name while 100 is invalid?\n",
    "\n",
    "Solution:\n",
    "\n",
    "Because we cannot start a variable with integer name, if we have too then we should start the alphabet name then an integer.\n",
    "eg: a100 or abhi100."
   ]
  },
  {
   "cell_type": "code",
   "execution_count": null,
   "id": "5c09633d",
   "metadata": {},
   "outputs": [],
   "source": [
    "Q9- What three functions can be used to get the integer, floating-point number, or string version of a value?\n",
    "\n",
    "Solution:\n",
    "\n",
    "str(), int() , float()"
   ]
  },
  {
   "cell_type": "code",
   "execution_count": null,
   "id": "6ceebccd",
   "metadata": {},
   "outputs": [],
   "source": [
    "Q10- Why does this expression cause an error? How can you fix it?\n",
    "'I have eaten ' + 99 + ' burritos.'\n",
    "\n",
    "Solution:\n",
    "\n",
    "The reason why expression cause an error is beacuse 99 is an integer and hence it cannot be concatenated with strings.\n",
    "If we have to do concatenate then we will have to do typecasting.Below is the working for same."
   ]
  },
  {
   "cell_type": "code",
   "execution_count": 6,
   "id": "94b29d9d",
   "metadata": {},
   "outputs": [
    {
     "data": {
      "text/plain": [
       "'I have eaten 99 burritos'"
      ]
     },
     "execution_count": 6,
     "metadata": {},
     "output_type": "execute_result"
    }
   ],
   "source": [
    "\"I have eaten \" + str( 99 ) + \" burritos\""
   ]
  }
 ],
 "metadata": {
  "kernelspec": {
   "display_name": "Python 3 (ipykernel)",
   "language": "python",
   "name": "python3"
  },
  "language_info": {
   "codemirror_mode": {
    "name": "ipython",
    "version": 3
   },
   "file_extension": ".py",
   "mimetype": "text/x-python",
   "name": "python",
   "nbconvert_exporter": "python",
   "pygments_lexer": "ipython3",
   "version": "3.9.7"
  }
 },
 "nbformat": 4,
 "nbformat_minor": 5
}
